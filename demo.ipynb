{
 "cells": [
  {
   "cell_type": "code",
   "execution_count": 1,
   "id": "533e6916",
   "metadata": {},
   "outputs": [],
   "source": [
    "from sklearn.tree import DecisionTreeRegressor\n",
    "from lib.decisiontree import fit_apply\n",
    "import numpy\n",
    "\n",
    "from lib.decisiontree_test import sample_X_y_w\n",
    "\n",
    "X, y, w, _ = sample_X_y_w(50_000)"
   ]
  },
  {
   "cell_type": "markdown",
   "id": "fa6ffd23",
   "metadata": {},
   "source": [
    "# Performance:\n",
    "\n",
    "sklearn implementation is O(n^2), as soon n is bigger than 10k it starts to be slow:"
   ]
  },
  {
   "cell_type": "code",
   "execution_count": 2,
   "id": "a1a5bee3",
   "metadata": {},
   "outputs": [
    {
     "name": "stdout",
     "output_type": "stream",
     "text": [
      "CPU times: user 8.89 s, sys: 4.15 ms, total: 8.89 s\n",
      "Wall time: 8.89 s\n"
     ]
    },
    {
     "data": {
      "text/plain": [
       "array([1, 2, 1, ..., 1, 2, 2], shape=(50000,))"
      ]
     },
     "execution_count": 2,
     "metadata": {},
     "output_type": "execute_result"
    }
   ],
   "source": [
    "%%time\n",
    "reg = DecisionTreeRegressor(max_depth=1, criterion='absolute_error')\n",
    "reg.fit(X, y, sample_weight=w).apply(X)"
   ]
  },
  {
   "cell_type": "markdown",
   "id": "0aaf47e3",
   "metadata": {},
   "source": [
    "My implementation is O(n log n), so it's much fast and can scale to millions of points (even a few billions if you are patient ^^). Though it's still much slower than the MSE based split from sklearn which is in O(n)."
   ]
  },
  {
   "cell_type": "code",
   "execution_count": 15,
   "id": "c4c8581b",
   "metadata": {},
   "outputs": [
    {
     "name": "stdout",
     "output_type": "stream",
     "text": [
      "14.5 μs ± 172 ns per loop (mean ± std. dev. of 7 runs, 100,000 loops each)\n"
     ]
    }
   ],
   "source": [
    "%%timeit\n",
    "leaves = fit_apply(X, y, X_apply=X, sample_weights=w, algo='heaps')"
   ]
  },
  {
   "cell_type": "code",
   "execution_count": 16,
   "id": "e145a14c",
   "metadata": {},
   "outputs": [
    {
     "name": "stdout",
     "output_type": "stream",
     "text": [
      "CPU times: user 828 ms, sys: 42 ms, total: 870 ms\n",
      "Wall time: 868 ms\n"
     ]
    }
   ],
   "source": [
    "%%time\n",
    "X, y, w, _ = sample_X_y_w(10**6)\n",
    "leaves = fit_apply(X, y, X_apply=X, sample_weights=w, algo='heaps')"
   ]
  },
  {
   "cell_type": "code",
   "execution_count": 18,
   "id": "9db637f4",
   "metadata": {},
   "outputs": [
    {
     "name": "stdout",
     "output_type": "stream",
     "text": [
      "CPU times: user 298 ms, sys: 3 μs, total: 298 ms\n",
      "Wall time: 297 ms\n"
     ]
    },
    {
     "data": {
      "text/plain": [
       "array([1, 1, 1, ..., 1, 2, 1], shape=(1000000,))"
      ]
     },
     "execution_count": 18,
     "metadata": {},
     "output_type": "execute_result"
    }
   ],
   "source": [
    "%%time\n",
    "reg = DecisionTreeRegressor(max_depth=1, criterion='squared_error')\n",
    "reg.fit(X, y, sample_weight=w).apply(X)"
   ]
  },
  {
   "cell_type": "markdown",
   "id": "d9645b04",
   "metadata": {},
   "source": [
    "# Correctness\n",
    "\n",
    "As one can see by playing with the tests in `lib/decisiontree_test.py`, sklearn's implementation and mine amlost always give the same results. But sometimes mine gives lower absolute error, showing that sklearn's implementation isn't prefectly correct (when sample weights are given).\n",
    "\n",
    "Note: I can't prove my implementation is prefectly correct (i.e. always returns the minimal-MAE split)."
   ]
  },
  {
   "cell_type": "code",
   "execution_count": 9,
   "id": "74fba92d",
   "metadata": {},
   "outputs": [],
   "source": [
    "from lib.decisiontree_test import leaves_mae\n",
    "\n",
    "X = numpy.array([\n",
    "    [ 2.38, 3.13],\n",
    "    [-0.87, 0.24],\n",
    "    [ 3.42, 2.74],\n",
    "    [ 1.43, 2.57],\n",
    "    [ 0.86, 0.26]\n",
    "])\n",
    "y = numpy.array([0.784, 0.654, 1.125, 2.010, 0.614])\n",
    "w = numpy.array([0.622, 1.356, 1.206, 0.912, 1.424])"
   ]
  },
  {
   "cell_type": "code",
   "execution_count": 10,
   "id": "edc0fce8",
   "metadata": {},
   "outputs": [
    {
     "name": "stdout",
     "output_type": "stream",
     "text": [
      "[1 1 2 1 1]\n"
     ]
    },
    {
     "data": {
      "text/plain": [
       "array([1.374492, 0.      ])"
      ]
     },
     "execution_count": 10,
     "metadata": {},
     "output_type": "execute_result"
    }
   ],
   "source": [
    "reg = DecisionTreeRegressor(max_depth=1, criterion='absolute_error')\n",
    "leaves = reg.fit(X, y, sample_weight=w).apply(X)\n",
    "print(leaves)\n",
    "leaves_mae(leaves, y, w)"
   ]
  },
  {
   "cell_type": "code",
   "execution_count": 11,
   "id": "70a43c33",
   "metadata": {},
   "outputs": [
    {
     "name": "stdout",
     "output_type": "stream",
     "text": [
      "[2 1 2 2 1]\n"
     ]
    },
    {
     "data": {
      "text/plain": [
       "array([0.05424 , 1.019222])"
      ]
     },
     "execution_count": 11,
     "metadata": {},
     "output_type": "execute_result"
    }
   ],
   "source": [
    "leaves = fit_apply(X, y, X_apply=X, sample_weights=w, algo='heaps')\n",
    "print(leaves)\n",
    "leaves_mae(leaves, y, w)"
   ]
  }
 ],
 "metadata": {
  "kernelspec": {
   "display_name": "fast-mae-split (3.12.11)",
   "language": "python",
   "name": "python3"
  },
  "language_info": {
   "codemirror_mode": {
    "name": "ipython",
    "version": 3
   },
   "file_extension": ".py",
   "mimetype": "text/x-python",
   "name": "python",
   "nbconvert_exporter": "python",
   "pygments_lexer": "ipython3",
   "version": "3.12.11"
  }
 },
 "nbformat": 4,
 "nbformat_minor": 5
}
