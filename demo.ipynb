{
 "cells": [
  {
   "cell_type": "code",
   "execution_count": 1,
   "id": "533e6916",
   "metadata": {},
   "outputs": [],
   "source": [
    "from sklearn.tree import DecisionTreeRegressor\n",
    "from lib.decisiontree import fit_apply\n",
    "import numpy\n",
    "\n",
    "from lib.decisiontree_test import sample_X_y_w"
   ]
  },
  {
   "cell_type": "markdown",
   "id": "fa6ffd23",
   "metadata": {},
   "source": [
    "# Performance:\n",
    "\n",
    "sklearn implementation is O(n^2), as soon n is bigger than 10k it starts to be slow:"
   ]
  },
  {
   "cell_type": "code",
   "execution_count": 2,
   "id": "230296c2",
   "metadata": {},
   "outputs": [],
   "source": [
    "from time import perf_counter\n",
    "import matplotlib.pyplot as plt\n",
    "\n",
    "ns = numpy.logspace(2, 4.5, num=30)\n",
    "dts = []\n",
    "for n in ns:\n",
    "    X, y, w, _ = sample_X_y_w(int(n))\n",
    "    t = perf_counter()\n",
    "    reg = DecisionTreeRegressor(max_depth=1, criterion='absolute_error')\n",
    "    reg.fit(X, y, sample_weight=w).apply(X)\n",
    "    dts.append(perf_counter() - t)\n"
   ]
  },
  {
   "cell_type": "code",
   "execution_count": 3,
   "id": "cccb639a",
   "metadata": {},
   "outputs": [
    {
     "data": {
      "image/png": "[encoded data removed]",
      "text/plain": [
       "<Figure size 640x480 with 1 Axes>"
      ]
     },
     "metadata": {},
     "output_type": "display_data"
    }
   ],
   "source": [
    "plt.scatter(ns, dts)\n",
    "alpha = dts[-1] / ns[-1]**2\n",
    "plt.plot(ns, alpha * ns**2, c='orange')\n",
    "plt.legend(['run time', r\" $f(x) = \\alpha x^2$ \"])\n",
    "plt.xlabel('number of data points')\n",
    "plt.ylabel('seconds');"
   ]
  },
  {
   "cell_type": "code",
   "execution_count": 4,
   "id": "a1a5bee3",
   "metadata": {},
   "outputs": [
    {
     "name": "stdout",
     "output_type": "stream",
     "text": [
      "CPU times: user 8.79 s, sys: 1.98 ms, total: 8.8 s\n",
      "Wall time: 8.79 s\n"
     ]
    },
    {
     "data": {
      "text/plain": [
       "array([1, 1, 2, ..., 2, 1, 1], shape=(50000,))"
      ]
     },
     "execution_count": 4,
     "metadata": {},
     "output_type": "execute_result"
    }
   ],
   "source": [
    "%%time\n",
    "X, y, w, _ = sample_X_y_w(50_000)\n",
    "\n",
    "reg = DecisionTreeRegressor(max_depth=1, criterion='absolute_error')\n",
    "reg.fit(X, y, sample_weight=w).apply(X)"
   ]
  },
  {
   "cell_type": "markdown",
   "id": "0aaf47e3",
   "metadata": {},
   "source": [
    "My implementation is O(n log n), so it's much fast and can scale to millions of points (even a few billions if you are patient ^^). Though it's still much slower than the MSE based split from sklearn which is in O(n)."
   ]
  },
  {
   "cell_type": "code",
   "execution_count": 5,
   "id": "c4c8581b",
   "metadata": {},
   "outputs": [
    {
     "name": "stdout",
     "output_type": "stream",
     "text": [
      "27 ms ± 549 μs per loop (mean ± std. dev. of 7 runs, 1 loop each)\n"
     ]
    }
   ],
   "source": [
    "%%timeit\n",
    "leaves = fit_apply(X, y, X_apply=X, sample_weights=w, algo='heaps')"
   ]
  },
  {
   "cell_type": "code",
   "execution_count": 6,
   "id": "e145a14c",
   "metadata": {},
   "outputs": [
    {
     "name": "stdout",
     "output_type": "stream",
     "text": [
      "CPU times: user 792 ms, sys: 50 ms, total: 842 ms\n",
      "Wall time: 840 ms\n"
     ]
    }
   ],
   "source": [
    "%%time\n",
    "X, y, w, _ = sample_X_y_w(10**6)\n",
    "leaves = fit_apply(X, y, X_apply=X, sample_weights=w, algo='heaps')"
   ]
  },
  {
   "cell_type": "code",
   "execution_count": 7,
   "id": "9db637f4",
   "metadata": {},
   "outputs": [
    {
     "name": "stdout",
     "output_type": "stream",
     "text": [
      "CPU times: user 276 ms, sys: 4.01 ms, total: 280 ms\n",
      "Wall time: 278 ms\n"
     ]
    },
    {
     "data": {
      "text/plain": [
       "array([1, 1, 1, ..., 1, 2, 1], shape=(1000000,))"
      ]
     },
     "execution_count": 7,
     "metadata": {},
     "output_type": "execute_result"
    }
   ],
   "source": [
    "%%time\n",
    "reg = DecisionTreeRegressor(max_depth=1, criterion='squared_error')\n",
    "reg.fit(X, y, sample_weight=w).apply(X)"
   ]
  },
  {
   "cell_type": "markdown",
   "id": "d9645b04",
   "metadata": {},
   "source": [
    "# Correctness\n",
    "\n",
    "As one can see by playing with the tests in `lib/decisiontree_test.py`, sklearn's implementation and mine amlost always give the same results. But sometimes mine gives lower absolute error, showing that sklearn's implementation isn't prefectly correct (when sample weights are given).\n",
    "\n",
    "Note: I can't prove my implementation is prefectly correct (i.e. always returns the minimal-MAE split)."
   ]
  },
  {
   "cell_type": "code",
   "execution_count": 8,
   "id": "74fba92d",
   "metadata": {},
   "outputs": [],
   "source": [
    "from lib.decisiontree_test import leaves_mae\n",
    "\n",
    "X = numpy.array([\n",
    "    [ 2.38, 3.13],\n",
    "    [-0.87, 0.24],\n",
    "    [ 3.42, 2.74],\n",
    "    [ 1.43, 2.57],\n",
    "    [ 0.86, 0.26]\n",
    "])\n",
    "y = numpy.array([0.784, 0.654, 1.125, 2.010, 0.614])\n",
    "w = numpy.array([0.622, 1.356, 1.206, 0.912, 1.424])"
   ]
  },
  {
   "cell_type": "code",
   "execution_count": 9,
   "id": "edc0fce8",
   "metadata": {},
   "outputs": [
    {
     "name": "stdout",
     "output_type": "stream",
     "text": [
      "[1 1 2 1 1]\n"
     ]
    },
    {
     "data": {
      "text/plain": [
       "array([1.374492, 0.      ])"
      ]
     },
     "execution_count": 9,
     "metadata": {},
     "output_type": "execute_result"
    }
   ],
   "source": [
    "reg = DecisionTreeRegressor(max_depth=1, criterion='absolute_error')\n",
    "leaves = reg.fit(X, y, sample_weight=w).apply(X)\n",
    "print(leaves)\n",
    "leaves_mae(leaves, y, w)"
   ]
  },
  {
   "cell_type": "code",
   "execution_count": 10,
   "id": "70a43c33",
   "metadata": {},
   "outputs": [
    {
     "name": "stdout",
     "output_type": "stream",
     "text": [
      "[2 1 2 2 1]\n"
     ]
    },
    {
     "data": {
      "text/plain": [
       "array([0.05424 , 1.019222])"
      ]
     },
     "execution_count": 10,
     "metadata": {},
     "output_type": "execute_result"
    }
   ],
   "source": [
    "leaves = fit_apply(X, y, X_apply=X, sample_weights=w, algo='heaps')\n",
    "print(leaves)\n",
    "leaves_mae(leaves, y, w)"
   ]
  }
 ],
 "metadata": {
  "kernelspec": {
   "display_name": "fast-mae-split (3.12.11)",
   "language": "python",
   "name": "python3"
  },
  "language_info": {
   "codemirror_mode": {
    "name": "ipython",
    "version": 3
   },
   "file_extension": ".py",
   "mimetype": "text/x-python",
   "name": "python",
   "nbconvert_exporter": "python",
   "pygments_lexer": "ipython3",
   "version": "3.12.11"
  }
 },
 "nbformat": 4,
 "nbformat_minor": 5
}
