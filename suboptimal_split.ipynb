{
 "cells": [
  {
   "cell_type": "code",
   "execution_count": 1,
   "id": "533e6916",
   "metadata": {},
   "outputs": [],
   "source": [
    "from sklearn.tree import DecisionTreeRegressor\n",
    "import numpy"
   ]
  },
  {
   "cell_type": "code",
   "execution_count": 19,
   "id": "d052744b",
   "metadata": {},
   "outputs": [],
   "source": [
    "x = numpy.random.rand(10**6)"
   ]
  },
  {
   "cell_type": "code",
   "execution_count": 20,
   "id": "7b549d99",
   "metadata": {},
   "outputs": [
    {
     "name": "stdout",
     "output_type": "stream",
     "text": [
      "CPU times: user 697 ms, sys: 14 μs, total: 697 ms\n",
      "Wall time: 699 ms\n"
     ]
    }
   ],
   "source": [
    "%%time\n",
    "for _ in range(1000):\n",
    "    # numpy.multiply(1.001, x, out=x)\n",
    "    y = (-4.1) * x"
   ]
  },
  {
   "cell_type": "code",
   "execution_count": 7,
   "id": "74fba92d",
   "metadata": {},
   "outputs": [],
   "source": [
    "X = numpy.array([\n",
    "    [ 2.38, 3.13],\n",
    "    [-0.87, 0.24],\n",
    "    [ 3.42, 2.74],\n",
    "    [ 1.43, 2.57],\n",
    "    [ 0.86, 0.26]\n",
    "])\n",
    "y = numpy.array([0.784, 0.654, 1.125, 2.010, 0.614])\n",
    "w = numpy.array([0.622, 1.356, 1.206, 0.912, 1.424])"
   ]
  },
  {
   "cell_type": "code",
   "execution_count": 17,
   "id": "c12bb6df",
   "metadata": {},
   "outputs": [],
   "source": [
    "import numpy as np\n",
    "\n",
    "def abs_error_of_a_leaf(y, w):\n",
    "    return min((np.abs(y - yi) * w).sum() for yi in y)\n",
    "\n",
    "def abs_error_of_leaves(leaves, y, w=None):\n",
    "    if w is None:\n",
    "        w = numpy.ones(leaves.size, dtype=int)\n",
    "    return sum(abs_error_of_a_leaf(y[leaves == i], w[leaves == i]) for i in np.unique(leaves))\n",
    "\n",
    "X = np.array([\n",
    "    [1, 1],\n",
    "    [2, 2],\n",
    "    [3, 3],\n",
    "    [4, 4],\n",
    "    [5, 5],\n",
    "])\n",
    "y = np.array([0.6, 0.6, 2.0, 0.7, 1.1])\n",
    "w = np.array([3., 3., 2., 1., 2.])"
   ]
  },
  {
   "cell_type": "code",
   "execution_count": 19,
   "id": "7411009c",
   "metadata": {},
   "outputs": [
    {
     "data": {
      "text/plain": [
       "(array([[1],\n",
       "        [1],\n",
       "        [1],\n",
       "        [2],\n",
       "        [2],\n",
       "        [2],\n",
       "        [3],\n",
       "        [3],\n",
       "        [4],\n",
       "        [5],\n",
       "        [5]]),\n",
       " array([1, 1, 1, 1, 1, 1, 3, 3, 1, 2, 2]))"
      ]
     },
     "execution_count": 19,
     "metadata": {},
     "output_type": "execute_result"
    }
   ],
   "source": [
    "X = np.array([[1], [2], [3], [4], [5]])\n",
    "y = np.array([1, 1, 3, 1, 2])\n",
    "w = np.array([3, 3, 2, 1, 2])\n",
    "\n",
    "X = numpy.repeat(X, w).reshape(-1, 1)\n",
    "y = numpy.repeat(y, w)\n",
    "X, y"
   ]
  },
  {
   "cell_type": "code",
   "execution_count": 21,
   "id": "abb0a525",
   "metadata": {},
   "outputs": [
    {
     "name": "stdout",
     "output_type": "stream",
     "text": [
      "leaves: [1 1 1 1 1 1 2 2 2 2 2] total abs error: 3\n",
      "total abs error: 3\n"
     ]
    }
   ],
   "source": [
    "reg = DecisionTreeRegressor(max_depth=1, criterion='absolute_error')\n",
    "sk_leaves = reg.fit(X, y).apply(X)\n",
    "print(\"leaves:\", sk_leaves, \"total abs error:\", abs_error_of_leaves(sk_leaves, y))\n",
    "\n",
    "expected_leaves = np.array([1, 1]*3 + [2, 2, 2, 2, 2])\n",
    "print(\"total abs error:\", abs_error_of_leaves(expected_leaves, y))"
   ]
  },
  {
   "cell_type": "code",
   "execution_count": 15,
   "id": "edc0fce8",
   "metadata": {},
   "outputs": [
    {
     "ename": "ValueError",
     "evalue": "sample_weight.shape == (5,), expected (11,)!",
     "output_type": "error",
     "traceback": [
      "\u001b[31m---------------------------------------------------------------------------\u001b[39m",
      "\u001b[31mValueError\u001b[39m                                Traceback (most recent call last)",
      "\u001b[36mCell\u001b[39m\u001b[36m \u001b[39m\u001b[32mIn[15]\u001b[39m\u001b[32m, line 2\u001b[39m\n\u001b[32m      1\u001b[39m reg = DecisionTreeRegressor(max_depth=\u001b[32m1\u001b[39m, criterion=\u001b[33m'\u001b[39m\u001b[33mabsolute_error\u001b[39m\u001b[33m'\u001b[39m)\n\u001b[32m----> \u001b[39m\u001b[32m2\u001b[39m sk_leaves = \u001b[43mreg\u001b[49m\u001b[43m.\u001b[49m\u001b[43mfit\u001b[49m\u001b[43m(\u001b[49m\u001b[43mX\u001b[49m\u001b[43m,\u001b[49m\u001b[43m \u001b[49m\u001b[43my\u001b[49m\u001b[43m,\u001b[49m\u001b[43m \u001b[49m\u001b[43msample_weight\u001b[49m\u001b[43m=\u001b[49m\u001b[43mw\u001b[49m\u001b[43m)\u001b[49m.apply(X)\n\u001b[32m      3\u001b[39m \u001b[38;5;28mprint\u001b[39m(\u001b[33m\"\u001b[39m\u001b[33mleaves:\u001b[39m\u001b[33m\"\u001b[39m, sk_leaves, \u001b[33m\"\u001b[39m\u001b[33mtotal abs error:\u001b[39m\u001b[33m\"\u001b[39m, abs_error_of_leaves(sk_leaves, y, w))\n\u001b[32m      5\u001b[39m expected_leaves = np.array([\u001b[32m1\u001b[39m, \u001b[32m1\u001b[39m, \u001b[32m2\u001b[39m, \u001b[32m2\u001b[39m, \u001b[32m2\u001b[39m])\n",
      "\u001b[36mFile \u001b[39m\u001b[32m~/dev-perso/fast-mae-split/.venv/lib/python3.12/site-packages/sklearn/base.py:1365\u001b[39m, in \u001b[36m_fit_context.<locals>.decorator.<locals>.wrapper\u001b[39m\u001b[34m(estimator, *args, **kwargs)\u001b[39m\n\u001b[32m   1358\u001b[39m     estimator._validate_params()\n\u001b[32m   1360\u001b[39m \u001b[38;5;28;01mwith\u001b[39;00m config_context(\n\u001b[32m   1361\u001b[39m     skip_parameter_validation=(\n\u001b[32m   1362\u001b[39m         prefer_skip_nested_validation \u001b[38;5;129;01mor\u001b[39;00m global_skip_validation\n\u001b[32m   1363\u001b[39m     )\n\u001b[32m   1364\u001b[39m ):\n\u001b[32m-> \u001b[39m\u001b[32m1365\u001b[39m     \u001b[38;5;28;01mreturn\u001b[39;00m \u001b[43mfit_method\u001b[49m\u001b[43m(\u001b[49m\u001b[43mestimator\u001b[49m\u001b[43m,\u001b[49m\u001b[43m \u001b[49m\u001b[43m*\u001b[49m\u001b[43margs\u001b[49m\u001b[43m,\u001b[49m\u001b[43m \u001b[49m\u001b[43m*\u001b[49m\u001b[43m*\u001b[49m\u001b[43mkwargs\u001b[49m\u001b[43m)\u001b[49m\n",
      "\u001b[36mFile \u001b[39m\u001b[32m~/dev-perso/fast-mae-split/.venv/lib/python3.12/site-packages/sklearn/tree/_classes.py:1404\u001b[39m, in \u001b[36mDecisionTreeRegressor.fit\u001b[39m\u001b[34m(self, X, y, sample_weight, check_input)\u001b[39m\n\u001b[32m   1374\u001b[39m \u001b[38;5;129m@_fit_context\u001b[39m(prefer_skip_nested_validation=\u001b[38;5;28;01mTrue\u001b[39;00m)\n\u001b[32m   1375\u001b[39m \u001b[38;5;28;01mdef\u001b[39;00m\u001b[38;5;250m \u001b[39m\u001b[34mfit\u001b[39m(\u001b[38;5;28mself\u001b[39m, X, y, sample_weight=\u001b[38;5;28;01mNone\u001b[39;00m, check_input=\u001b[38;5;28;01mTrue\u001b[39;00m):\n\u001b[32m   1376\u001b[39m \u001b[38;5;250m    \u001b[39m\u001b[33;03m\"\"\"Build a decision tree regressor from the training set (X, y).\u001b[39;00m\n\u001b[32m   1377\u001b[39m \n\u001b[32m   1378\u001b[39m \u001b[33;03m    Parameters\u001b[39;00m\n\u001b[32m   (...)\u001b[39m\u001b[32m   1401\u001b[39m \u001b[33;03m        Fitted estimator.\u001b[39;00m\n\u001b[32m   1402\u001b[39m \u001b[33;03m    \"\"\"\u001b[39;00m\n\u001b[32m-> \u001b[39m\u001b[32m1404\u001b[39m     \u001b[38;5;28;43msuper\u001b[39;49m\u001b[43m(\u001b[49m\u001b[43m)\u001b[49m\u001b[43m.\u001b[49m\u001b[43m_fit\u001b[49m\u001b[43m(\u001b[49m\n\u001b[32m   1405\u001b[39m \u001b[43m        \u001b[49m\u001b[43mX\u001b[49m\u001b[43m,\u001b[49m\n\u001b[32m   1406\u001b[39m \u001b[43m        \u001b[49m\u001b[43my\u001b[49m\u001b[43m,\u001b[49m\n\u001b[32m   1407\u001b[39m \u001b[43m        \u001b[49m\u001b[43msample_weight\u001b[49m\u001b[43m=\u001b[49m\u001b[43msample_weight\u001b[49m\u001b[43m,\u001b[49m\n\u001b[32m   1408\u001b[39m \u001b[43m        \u001b[49m\u001b[43mcheck_input\u001b[49m\u001b[43m=\u001b[49m\u001b[43mcheck_input\u001b[49m\u001b[43m,\u001b[49m\n\u001b[32m   1409\u001b[39m \u001b[43m    \u001b[49m\u001b[43m)\u001b[49m\n\u001b[32m   1410\u001b[39m     \u001b[38;5;28;01mreturn\u001b[39;00m \u001b[38;5;28mself\u001b[39m\n",
      "\u001b[36mFile \u001b[39m\u001b[32m~/dev-perso/fast-mae-split/.venv/lib/python3.12/site-packages/sklearn/tree/_classes.py:361\u001b[39m, in \u001b[36mBaseDecisionTree._fit\u001b[39m\u001b[34m(self, X, y, sample_weight, check_input, missing_values_in_feature_mask)\u001b[39m\n\u001b[32m    355\u001b[39m     \u001b[38;5;28;01mraise\u001b[39;00m \u001b[38;5;167;01mValueError\u001b[39;00m(\n\u001b[32m    356\u001b[39m         \u001b[33m\"\u001b[39m\u001b[33mNumber of labels=\u001b[39m\u001b[38;5;132;01m%d\u001b[39;00m\u001b[33m does not match number of samples=\u001b[39m\u001b[38;5;132;01m%d\u001b[39;00m\u001b[33m\"\u001b[39m\n\u001b[32m    357\u001b[39m         % (\u001b[38;5;28mlen\u001b[39m(y), n_samples)\n\u001b[32m    358\u001b[39m     )\n\u001b[32m    360\u001b[39m \u001b[38;5;28;01mif\u001b[39;00m sample_weight \u001b[38;5;129;01mis\u001b[39;00m \u001b[38;5;129;01mnot\u001b[39;00m \u001b[38;5;28;01mNone\u001b[39;00m:\n\u001b[32m--> \u001b[39m\u001b[32m361\u001b[39m     sample_weight = \u001b[43m_check_sample_weight\u001b[49m\u001b[43m(\u001b[49m\u001b[43msample_weight\u001b[49m\u001b[43m,\u001b[49m\u001b[43m \u001b[49m\u001b[43mX\u001b[49m\u001b[43m,\u001b[49m\u001b[43m \u001b[49m\u001b[43mdtype\u001b[49m\u001b[43m=\u001b[49m\u001b[43mDOUBLE\u001b[49m\u001b[43m)\u001b[49m\n\u001b[32m    363\u001b[39m \u001b[38;5;28;01mif\u001b[39;00m expanded_class_weight \u001b[38;5;129;01mis\u001b[39;00m \u001b[38;5;129;01mnot\u001b[39;00m \u001b[38;5;28;01mNone\u001b[39;00m:\n\u001b[32m    364\u001b[39m     \u001b[38;5;28;01mif\u001b[39;00m sample_weight \u001b[38;5;129;01mis\u001b[39;00m \u001b[38;5;129;01mnot\u001b[39;00m \u001b[38;5;28;01mNone\u001b[39;00m:\n",
      "\u001b[36mFile \u001b[39m\u001b[32m~/dev-perso/fast-mae-split/.venv/lib/python3.12/site-packages/sklearn/utils/validation.py:2197\u001b[39m, in \u001b[36m_check_sample_weight\u001b[39m\u001b[34m(sample_weight, X, dtype, ensure_non_negative, copy)\u001b[39m\n\u001b[32m   2194\u001b[39m         \u001b[38;5;28;01mraise\u001b[39;00m \u001b[38;5;167;01mValueError\u001b[39;00m(\u001b[33m\"\u001b[39m\u001b[33mSample weights must be 1D array or scalar\u001b[39m\u001b[33m\"\u001b[39m)\n\u001b[32m   2196\u001b[39m     \u001b[38;5;28;01mif\u001b[39;00m sample_weight.shape != (n_samples,):\n\u001b[32m-> \u001b[39m\u001b[32m2197\u001b[39m         \u001b[38;5;28;01mraise\u001b[39;00m \u001b[38;5;167;01mValueError\u001b[39;00m(\n\u001b[32m   2198\u001b[39m             \u001b[33m\"\u001b[39m\u001b[33msample_weight.shape == \u001b[39m\u001b[38;5;132;01m{}\u001b[39;00m\u001b[33m, expected \u001b[39m\u001b[38;5;132;01m{}\u001b[39;00m\u001b[33m!\u001b[39m\u001b[33m\"\u001b[39m.format(\n\u001b[32m   2199\u001b[39m                 sample_weight.shape, (n_samples,)\n\u001b[32m   2200\u001b[39m             )\n\u001b[32m   2201\u001b[39m         )\n\u001b[32m   2203\u001b[39m \u001b[38;5;28;01mif\u001b[39;00m ensure_non_negative:\n\u001b[32m   2204\u001b[39m     check_non_negative(sample_weight, \u001b[33m\"\u001b[39m\u001b[33m`sample_weight`\u001b[39m\u001b[33m\"\u001b[39m)\n",
      "\u001b[31mValueError\u001b[39m: sample_weight.shape == (5,), expected (11,)!"
     ]
    }
   ],
   "source": [
    "reg = DecisionTreeRegressor(max_depth=1, criterion='absolute_error')\n",
    "sk_leaves = reg.fit(X, y, sample_weight=w).apply(X)\n",
    "print(\"leaves:\", sk_leaves, \"total abs error:\", abs_error_of_leaves(sk_leaves, y, w))\n",
    "\n",
    "expected_leaves = np.array([1, 1, 2, 2, 2])\n",
    "print(\"total abs error:\", abs_error_of_leaves(expected_leaves, y, w))"
   ]
  },
  {
   "cell_type": "code",
   "execution_count": null,
   "id": "70a43c33",
   "metadata": {},
   "outputs": [
    {
     "data": {
      "text/plain": [
       "array([0.54545455, 0.44444444, 0.        ])"
      ]
     },
     "execution_count": 25,
     "metadata": {},
     "output_type": "execute_result"
    }
   ],
   "source": [
    "reg.tree_.impurity, []"
   ]
  },
  {
   "cell_type": "code",
   "execution_count": 17,
   "id": "31c89e45",
   "metadata": {},
   "outputs": [
    {
     "name": "stdout",
     "output_type": "stream",
     "text": [
      "[4.  4.5 4. ]\n"
     ]
    },
    {
     "data": {
      "image/png": "[encoded data removed]",
      "text/plain": [
       "<Figure size 640x480 with 1 Axes>"
      ]
     },
     "metadata": {},
     "output_type": "display_data"
    }
   ],
   "source": [
    "# Test MAE where all sample weights are uniform:\n",
    "import numpy as np\n",
    "dt_mae = DecisionTreeRegressor(\n",
    "    random_state=0, criterion=\"absolute_error\", max_leaf_nodes=2\n",
    ")\n",
    "dt_mae.fit(X=[[3], [5], [3], [8], [5]], y=[6, 7, 3, 4, 3], sample_weight=np.ones(5))\n",
    "print(dt_mae.tree_.value.ravel())\n",
    "from sklearn.tree import plot_tree\n",
    "plot_tree(dt_mae);"
   ]
  }
 ],
 "metadata": {
  "kernelspec": {
   "display_name": "fast-mae-split (3.12.11)",
   "language": "python",
   "name": "python3"
  },
  "language_info": {
   "codemirror_mode": {
    "name": "ipython",
    "version": 3
   },
   "file_extension": ".py",
   "mimetype": "text/x-python",
   "name": "python",
   "nbconvert_exporter": "python",
   "pygments_lexer": "ipython3",
   "version": "3.12.11"
  }
 },
 "nbformat": 4,
 "nbformat_minor": 5
}
